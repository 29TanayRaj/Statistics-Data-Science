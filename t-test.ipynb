{
 "cells": [
  {
   "cell_type": "markdown",
   "metadata": {},
   "source": [
    "# t-test \n",
    "\n",
    "The Student's t-test is a statistical method used to determine whether there is a significant difference between the means of two groups, accounting for the sample size and variability of the data.\n",
    "\n",
    "There are three major varitions of t-test:\n",
    "\n",
    "i. One-sample t-test\n",
    "\n",
    "ii. Independent two sample t-test\n",
    "\n",
    "iii. Paired t-test\n",
    "\n",
    "## One sample t-test\n",
    "\n",
    "#### When to use?\n",
    "- For comparing the sample mean to a poulation mean that is known or is hypothesied.\n",
    "\n",
    "#### Idea behind it?\n",
    "- The basic idea behind the on sample t-test is to standardize the difference between sample and population mean by considering the standard deviation in the data and the sample size.\n",
    "\n",
    "\n",
    "#### Formula \n",
    "\n",
    "$$ t = \\frac{\\bar{x} - \\mu_{o}}{s/\\sqrt(n)}$$\n",
    "\n",
    "Where \n",
    "- $\\bar{x}$ is mean.\n",
    "- $\\mu_{o}$ is the expeected mean (population) or hypothesised mean.\n",
    "- $s$ is the sample standard deviation.\n",
    "- n is the sample size.\n",
    "\n",
    "Note: This statistic has n-1 degress of freedom (used to calculate the critical value).\n",
    "\n",
    "\n",
    "#### Hypotheis taken \n",
    " Null hypothesis \n",
    "- The sample mean and hypotheised mean are the same \n",
    "$$H_{0} : \\bar{x} = \\mu$$\n",
    "\n",
    " Alternate hypothesis\n",
    "\n",
    "Two sided \n",
    "- The sample mean and hypothesis mean are different\n",
    "$$H_{1} : \\bar{x} \\neq \\mu$$\n",
    "\n",
    "One sided\n",
    "- One is greater than or lower than the other \n",
    "$$H_{1} : \\bar{x} < \\mu$$\n",
    "$$H_{1} : \\bar{x} > \\mu$$\n",
    "\n",
    "#### Assumptions for student's tests:\n",
    "\n",
    "1. Independence of samples : The samples should be independelty drawn from the sample.\n",
    "2. Normalility of sample mean: The sample mean should follow a normal distribution \n",
    "\n",
    "Note: If the sample size is, $n>30$ the second assumption becomes less critical due to central limit theorem.\n"
   ]
  },
  {
   "cell_type": "markdown",
   "metadata": {},
   "source": []
  }
 ],
 "metadata": {
  "language_info": {
   "name": "python"
  }
 },
 "nbformat": 4,
 "nbformat_minor": 2
}
